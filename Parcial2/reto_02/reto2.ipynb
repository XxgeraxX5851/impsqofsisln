{
 "cells": [
  {
   "cell_type": "code",
   "execution_count": null,
   "metadata": {},
   "outputs": [],
   "source": [
    "\"\"\"    \n",
    "Usaremos este script para enseñar Python a principiantes.\n",
    "El script es un ejemplo de Fizz-Buzz implementado en Python.\n",
    "El problema de FizzBuzz:\n",
    "Para todos los enteros entre 1 y 99 (incluidos ambos):\n",
    "    # imprimir fizz para múltiplos de 3\n",
    "    # imprimir buzz para múltiplos de 5\n",
    "    # imprimir fizzbuzz para múltiplos de 3 y 5\n",
    "\"\"\"\n",
    "\n",
    "def fizzbuzz(max_num):  \n",
    "\n",
    "\n",
    "    for i in range(1,max_num):\n",
    "        # % o modulo \n",
    "        if i%3==0 and i%5==0:\n",
    "            print(i,\"fizzbuzz\")\n",
    "        elif i%3==0:\n",
    "            print(i,\"fizz\")\n",
    "        elif i%5==0:\n",
    "            print(i,\"Buzz\")\n",
    "\n",
    "#iniciar el script\n",
    "if __name__=='__main__':\n",
    "    fizzbuzz(1)\n"
   ]
  }
 ],
 "metadata": {
  "language_info": {
   "name": "python"
  }
 },
 "nbformat": 4,
 "nbformat_minor": 2
}
